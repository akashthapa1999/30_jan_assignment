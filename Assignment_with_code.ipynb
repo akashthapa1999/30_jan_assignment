{
 "cells": [
  {
   "cell_type": "markdown",
   "id": "74b22941-c8a9-4afa-9f60-f89c5a024fd3",
   "metadata": {},
   "source": [
    "## Write a program to accept percentage Iran' the user and display the grade according to tha following criteria:\n",
    "Marks                         Grade\n",
    ">= 90                          A\n",
    ">=80 and < 90                  B\n",
    ">=60 and  <80                  C\n",
    "Below 60                       D"
   ]
  },
  {
   "cell_type": "code",
   "execution_count": 1,
   "id": "9ec111b2-6ccd-4ade-b303-2dee9cd84b2b",
   "metadata": {},
   "outputs": [
    {
     "name": "stdin",
     "output_type": "stream",
     "text": [
      "Enter the marks 87\n"
     ]
    },
    {
     "name": "stdout",
     "output_type": "stream",
     "text": [
      "You are in grade B\n"
     ]
    }
   ],
   "source": [
    "Marks = int(input(\"Enter the marks\"))\n",
    "\n",
    "if Marks >= 90:\n",
    "    print(\"You are in grade A\")\n",
    "    \n",
    "elif Marks >=80 and Marks < 90:\n",
    "    print(\"You are in grade B\")\n",
    "          \n",
    "elif Marks >=60 and Marks <80:\n",
    "    print(\"You are in grade C\")\n",
    "    \n",
    "else:\n",
    "    print(\"You are in grade D\")\n"
   ]
  },
  {
   "cell_type": "markdown",
   "id": "8a247901-c7fd-41bc-98a3-691a02cc12dc",
   "metadata": {
    "tags": []
   },
   "source": [
    "## Write a program to accept the cost price of a bike and display the road tax to be paid according to the following criteria:\n",
    "\n",
    "Tax\t                      Cost Price(in Rs)\n",
    "15%\t                      > 100000\n",
    "10%\t                      >50000 and <= 100000\n",
    "5%\t                      < = 50000\n"
   ]
  },
  {
   "cell_type": "code",
   "execution_count": 2,
   "id": "49de7826-4b01-414a-a943-ed2c4ac0df47",
   "metadata": {},
   "outputs": [
    {
     "name": "stdin",
     "output_type": "stream",
     "text": [
      "Enter the amount 80000\n"
     ]
    },
    {
     "name": "stdout",
     "output_type": "stream",
     "text": [
      " Tax = 10%\n",
      " You have to paid amount= 8000.0\n"
     ]
    }
   ],
   "source": [
    "Cp = int(input(\"Enter the amount\"))\n",
    "\n",
    "if Cp >= 100000:\n",
    "    print(\" Tax = 15%\\n\",\"You have to paid amount =\", Cp*15/100)\n",
    "    \n",
    "elif Cp >=50000 and Cp <100000:\n",
    "    print(\" Tax = 10%\\n\",\"You have to paid amount=\", Cp*10/100)\n",
    "\n",
    "else:\n",
    "    print(\" Tax = 5%\\n\",\"You have to paid amount =\", Cp*5/100)\n",
    "    \n",
    "    \n",
    "\n",
    "               \n",
    "                 "
   ]
  },
  {
   "cell_type": "markdown",
   "id": "9d0b77d2-58be-45a4-9f0a-f2b7770ca2b7",
   "metadata": {},
   "source": [
    "##  Accept any city from the user and display monuments of that city.\n",
    "City\tMonument\n",
    "Delhi\tRed Fort\n",
    "Agra\tTaj Manal\n",
    "Jaipur\tJal Mahal"
   ]
  },
  {
   "cell_type": "code",
   "execution_count": 26,
   "id": "993b01fd-3add-4831-a89e-bbb98d37fd48",
   "metadata": {},
   "outputs": [
    {
     "name": "stdout",
     "output_type": "stream",
     "text": [
      "Choose the city ['Delhi', 'Agra', 'Jaipur']\n"
     ]
    },
    {
     "name": "stdin",
     "output_type": "stream",
     "text": [
      "Enter the city Name: \n",
      " fdy\n"
     ]
    },
    {
     "name": "stdout",
     "output_type": "stream",
     "text": [
      "Try Again fdy\n"
     ]
    },
    {
     "name": "stdin",
     "output_type": "stream",
     "text": [
      "Enter the city Name: \n",
      " hfdy\n"
     ]
    },
    {
     "name": "stdout",
     "output_type": "stream",
     "text": [
      "Try Again hfdy\n"
     ]
    },
    {
     "name": "stdin",
     "output_type": "stream",
     "text": [
      "Enter the city Name: \n",
      " delhi\n"
     ]
    },
    {
     "name": "stdout",
     "output_type": "stream",
     "text": [
      "Try Again delhi\n"
     ]
    },
    {
     "name": "stdin",
     "output_type": "stream",
     "text": [
      "Enter the city Name: \n",
      " Delhi\n"
     ]
    },
    {
     "name": "stdout",
     "output_type": "stream",
     "text": [
      "Monument is := Red Fort\n"
     ]
    }
   ],
   "source": [
    "ak = {\n",
    "'Delhi' : \"Red Fort\",\n",
    "'Agra' : \"Taj Manal\",\n",
    "'Jaipur' : \"Jal Mahal\",\n",
    "}\n",
    "print(\"Choose the city\", list(ak.keys()))\n",
    "\n",
    "while ak:\n",
    "    \n",
    "    A = input(\"Enter the city Name: \\n\")\n",
    "    \n",
    "    if A in ak:\n",
    "        print(\"Monument is :=\", ak[A])\n",
    "        break\n",
    "    \n",
    "    else:\n",
    "        print(\"Try Again\", A)\n",
    "        "
   ]
  },
  {
   "cell_type": "markdown",
   "id": "5321c5f6-20a4-4407-bcd5-9b392ac7e757",
   "metadata": {},
   "source": [
    "## Check how many times a given number can be divided by 3 before it is less than or equal to 10."
   ]
  },
  {
   "cell_type": "code",
   "execution_count": 21,
   "id": "6c413a97-a182-4c19-9ed9-ff3126a77740",
   "metadata": {},
   "outputs": [
    {
     "name": "stdout",
     "output_type": "stream",
     "text": [
      "[3, 6, 9]\n"
     ]
    }
   ],
   "source": [
    "count = []\n",
    "for i in range(1,11):\n",
    "    if i%3 ==0:\n",
    "        count.append(i)\n",
    "print(count)"
   ]
  },
  {
   "cell_type": "markdown",
   "id": "be6473fa-7887-45bb-87e7-f90a4bd99723",
   "metadata": {},
   "source": [
    "# 5. Why and When to Use while Loop in Python give a detailed description with example "
   ]
  },
  {
   "cell_type": "raw",
   "id": "2c483151-7c69-4335-ab49-e1c4cedc1887",
   "metadata": {},
   "source": [
    "While Loop = \n",
    "Python uses the while and for keywords to constitute a conditional loop, by which repeated execution of a block of statements is done until the specified boolean expression is true."
   ]
  },
  {
   "cell_type": "raw",
   "id": "0b1df51d-5727-4fcf-913e-e0d4c2852ea7",
   "metadata": {},
   "source": [
    "Example :-\n",
    "Python keyword while has a conditional expression followed by the : symbol to start a block with an increased indent. This block has statements to be executed repeatedly. Such a block is usually referred to as the body of the loop. The body will keep executing till the condition evaluates to True. If and when it turns out to be False, the program will exit the loop. The following example demonstrates a while loop."
   ]
  },
  {
   "cell_type": "code",
   "execution_count": 25,
   "id": "927382e0-5dcf-4014-a79a-53aa952bcbb0",
   "metadata": {},
   "outputs": [
    {
     "name": "stdout",
     "output_type": "stream",
     "text": [
      "condition is true\n",
      "condition is true\n",
      "condition is true\n",
      "condition is true\n",
      "condition is true\n",
      "condition is false\n"
     ]
    }
   ],
   "source": [
    "num =0\n",
    "while num < 5:\n",
    "    print(\"condition is true\")\n",
    "    num = num + 1\n",
    "else:\n",
    "        print(\"condition is false\")"
   ]
  },
  {
   "cell_type": "markdown",
   "id": "1cadeeee-859d-43af-894c-a2729ccfcde3",
   "metadata": {},
   "source": [
    "# 6. Use nested while loop to print 3 different pattern. "
   ]
  },
  {
   "cell_type": "code",
   "execution_count": 41,
   "id": "9049838f-ed62-4511-97b7-5c243c8e3257",
   "metadata": {},
   "outputs": [
    {
     "name": "stdout",
     "output_type": "stream",
     "text": [
      "* \n",
      "** \n",
      "*** \n",
      "**** \n"
     ]
    }
   ],
   "source": [
    "i = 1\n",
    "while i<=4:\n",
    "    j = 1\n",
    "    while j<=i:\n",
    "        print(end = \"*\")\n",
    "        j = j +1\n",
    "    print(\" \")\n",
    "    i = i+1\n",
    "        \n",
    "    "
   ]
  },
  {
   "cell_type": "code",
   "execution_count": 53,
   "id": "1396c958-15ef-4e03-8f91-7c27bce389f4",
   "metadata": {},
   "outputs": [
    {
     "name": "stdout",
     "output_type": "stream",
     "text": [
      "    *\n",
      "   **\n",
      "  ***\n",
      " ****\n",
      "*****\n"
     ]
    }
   ],
   "source": [
    "i = 1\n",
    "while i <=5:\n",
    "    \n",
    "    b = 1 \n",
    "    while b <= 5-i:\n",
    "        print( \" \", end = \"\")\n",
    "        b = b+1\n",
    "        \n",
    "    j = 1\n",
    "    while j <= i:\n",
    "        print(\"*\", end = \"\")\n",
    "        j = j+1\n",
    "        \n",
    "    print()\n",
    "    i = i +1"
   ]
  },
  {
   "cell_type": "code",
   "execution_count": 67,
   "id": "44a055b7-38b6-4eb7-ba96-9dc39bcbab29",
   "metadata": {},
   "outputs": [
    {
     "name": "stdout",
     "output_type": "stream",
     "text": [
      " ****\n",
      "  ***\n",
      "   **\n",
      "    *\n"
     ]
    }
   ],
   "source": [
    "i = 1\n",
    "while i <= 4:\n",
    "    b = 1\n",
    "    while b<=i:\n",
    "        print(\" \" , end = \"\")\n",
    "        b = b+1\n",
    "        \n",
    "    c = 1\n",
    "    while c <=5-i:\n",
    "        print(\"*\",end = \"\")\n",
    "        c = c+1\n",
    "    print()\n",
    "    i = i+1\n",
    "    "
   ]
  },
  {
   "cell_type": "markdown",
   "id": "88def0cb-abe1-4c60-8ee3-d6f6d9ae0cbb",
   "metadata": {},
   "source": [
    "# 7. Reverse a while loop to display numbers from 10 to 1. "
   ]
  },
  {
   "cell_type": "code",
   "execution_count": 69,
   "id": "68df3a70-e923-42a3-92b1-e2db66af94dd",
   "metadata": {},
   "outputs": [
    {
     "name": "stdout",
     "output_type": "stream",
     "text": [
      "10\n",
      "9\n",
      "8\n",
      "7\n",
      "6\n",
      "5\n",
      "4\n",
      "3\n",
      "2\n",
      "1\n"
     ]
    }
   ],
   "source": [
    "a = 10\n",
    "while a > 0:\n",
    "    print(a)\n",
    "    a=a-1"
   ]
  }
 ],
 "metadata": {
  "kernelspec": {
   "display_name": "Python 3 (ipykernel)",
   "language": "python",
   "name": "python3"
  },
  "language_info": {
   "codemirror_mode": {
    "name": "ipython",
    "version": 3
   },
   "file_extension": ".py",
   "mimetype": "text/x-python",
   "name": "python",
   "nbconvert_exporter": "python",
   "pygments_lexer": "ipython3",
   "version": "3.10.8"
  }
 },
 "nbformat": 4,
 "nbformat_minor": 5
}
